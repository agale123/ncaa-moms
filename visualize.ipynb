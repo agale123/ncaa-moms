{
 "cells": [
  {
   "cell_type": "code",
   "execution_count": 34,
   "metadata": {},
   "outputs": [],
   "source": [
    "import pandas as pd\n",
    "import pytz\n",
    "import numpy as np\n",
    "import matplotlib.pyplot as plt\n",
    "import matplotlib.dates as mdates"
   ]
  },
  {
   "cell_type": "code",
   "execution_count": 35,
   "metadata": {},
   "outputs": [
    {
     "name": "stdout",
     "output_type": "stream",
     "text": [
      "                                                  text  \\\n",
      "0    b'RT @TheUndefeated: \"Let\\'s normalize working...   \n",
      "1    b'RT @TheUndefeated: \"Let\\'s normalize working...   \n",
      "2    b'RT @OnHerTurf: Last night, Holly Rowe highli...   \n",
      "3    b'RT @OnHerTurf: Last night, Holly Rowe highli...   \n",
      "4    b'RT @TheUndefeated: \"Let\\'s normalize working...   \n",
      "..                                                 ...   \n",
      "347  b'\\xe2\\x80\\x9cLet\\xe2\\x80\\x99s normalize worki...   \n",
      "348  b'Arizona coach Adia Barnes pumping at halftim...   \n",
      "349  b'RT @EMILYveMeAlone: The way Arizona\\xe2\\x80\\...   \n",
      "350  b'RT @EMILYveMeAlone: The way Arizona\\xe2\\x80\\...   \n",
      "351  b'The way Arizona\\xe2\\x80\\x99s coach Adia Barn...   \n",
      "\n",
      "                      created  is_retweet  favorites  retweets  \n",
      "0   2021-04-05 11:16:33-07:00        True          0       294  \n",
      "1   2021-04-05 11:13:39-07:00        True          0       294  \n",
      "2   2021-04-05 11:13:09-07:00        True          0        25  \n",
      "3   2021-04-05 11:12:50-07:00        True          0        25  \n",
      "4   2021-04-05 11:11:37-07:00        True          0       294  \n",
      "..                        ...         ...        ...       ...  \n",
      "347 2021-04-04 16:32:21-07:00       False        176        35  \n",
      "348 2021-04-04 16:31:59-07:00       False          0         0  \n",
      "349 2021-04-04 16:30:34-07:00        True          0         6  \n",
      "350 2021-04-04 16:29:39-07:00        True          0         6  \n",
      "351 2021-04-04 16:29:23-07:00       False         47         6  \n",
      "\n",
      "[352 rows x 5 columns]\n"
     ]
    }
   ],
   "source": [
    "# Read in data\n",
    "data = pd.read_csv('tweets.csv')\n",
    "data['created'] = pd.to_datetime(data['created']).dt.tz_localize('UTC').dt.tz_convert('US/Pacific')\n",
    "print(data)"
   ]
  },
  {
   "cell_type": "code",
   "execution_count": 43,
   "metadata": {},
   "outputs": [
    {
     "name": "stdout",
     "output_type": "stream",
     "text": [
      "21\n"
     ]
    }
   ],
   "source": [
    "# Generate hourly bins\n",
    "time = pd.to_datetime('2021-04-04 16:00:00-07:00')\n",
    "bins = []\n",
    "while time <= pd.to_datetime('2021-04-05 12:00:00-07:00'):\n",
    "    bins.append(time)\n",
    "    time = time + np.timedelta64(1, 'h')\n",
    "print(len(bins))"
   ]
  },
  {
   "cell_type": "code",
   "execution_count": 48,
   "metadata": {},
   "outputs": [
    {
     "data": {
      "image/png": "[encoded data removed]",
      "text/plain": [
       "<Figure size 432x288 with 1 Axes>"
      ]
     },
     "metadata": {
      "needs_background": "light"
     },
     "output_type": "display_data"
    }
   ],
   "source": [
    "# Plot histogram of Tweets\n",
    "fig, ax = plt.subplots()\n",
    "counts,bins, patches = plt.hist(x=data['created'], bins=bins)\n",
    "plt.title('Tweets over time')\n",
    "plt.xlabel('Time (PST)')\n",
    "plt.ylabel('Tweet count')\n",
    "ax.set_xticks([bins[0], bins[5], bins[10], bins[15], bins[20]])\n",
    "ax.xaxis.set_major_formatter(mdates.DateFormatter('%-m/%-d %H:%M', tz=pytz.timezone('US/Pacific')))\n",
    "plt.savefig('tweets_over_time.png')"
   ]
  },
  {
   "cell_type": "code",
   "execution_count": null,
   "metadata": {},
   "outputs": [],
   "source": []
  }
 ],
 "metadata": {
  "kernelspec": {
   "display_name": "Python 3",
   "language": "python",
   "name": "python3"
  },
  "language_info": {
   "codemirror_mode": {
    "name": "ipython",
    "version": 3
   },
   "file_extension": ".py",
   "mimetype": "text/x-python",
   "name": "python",
   "nbconvert_exporter": "python",
   "pygments_lexer": "ipython3",
   "version": "3.8.2"
  }
 },
 "nbformat": 4,
 "nbformat_minor": 4
}
