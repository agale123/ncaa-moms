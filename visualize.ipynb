{
 "cells": [
  {
   "cell_type": "code",
   "execution_count": 49,
   "metadata": {},
   "outputs": [],
   "source": [
    "import pandas as pd\n",
    "import pytz\n",
    "import numpy as np\n",
    "import matplotlib.pyplot as plt\n",
    "import matplotlib.dates as mdates"
   ]
  },
  {
   "cell_type": "code",
   "execution_count": 50,
   "metadata": {},
   "outputs": [
    {
     "name": "stdout",
     "output_type": "stream",
     "text": [
      "                                                  text                   id  \\\n",
      "0    b'RT @TheUndefeated: \"Let\\'s normalize working...  1379168310525366274   \n",
      "1    b'She\\xe2\\x80\\x99s amazing. Normalize breastfe...  1379167574215307266   \n",
      "2    b'RT @TheUndefeated: \"Let\\'s normalize working...  1379167278680399877   \n",
      "3    b'RT @TheUndefeated: \"Let\\'s normalize working...  1379165689265721358   \n",
      "4    b'RT @TheUndefeated: \"Let\\'s normalize working...  1379165449447895040   \n",
      "..                                                 ...                  ...   \n",
      "372  b'RT @SeifertESPN: \\xe2\\x80\\x9cLet\\xe2\\x80\\x99...  1378853288473460738   \n",
      "373  b'RT @SeifertESPN: \\xe2\\x80\\x9cLet\\xe2\\x80\\x99...  1378853224115998721   \n",
      "374  b'RT @SeifertESPN: \\xe2\\x80\\x9cLet\\xe2\\x80\\x99...  1378853094130393091   \n",
      "375  b'\\xe2\\x80\\x9cLet\\xe2\\x80\\x99s normalize worki...  1378852974911438851   \n",
      "376  b'Wow, Arizona Coach Adia Barnes is still a nu...  1378852548468109314   \n",
      "\n",
      "                      created  is_retweet  favorites  retweets  \n",
      "0   2021-04-05 13:25:23-07:00        True          0       326  \n",
      "1   2021-04-05 13:22:28-07:00       False          0         0  \n",
      "2   2021-04-05 13:21:17-07:00        True          0       326  \n",
      "3   2021-04-05 13:14:58-07:00        True          0       326  \n",
      "4   2021-04-05 13:14:01-07:00        True          0       326  \n",
      "..                        ...         ...        ...       ...  \n",
      "372 2021-04-04 16:33:36-07:00        True          0        35  \n",
      "373 2021-04-04 16:33:21-07:00        True          0        35  \n",
      "374 2021-04-04 16:32:50-07:00        True          0        35  \n",
      "375 2021-04-04 16:32:21-07:00       False        176        35  \n",
      "376 2021-04-04 16:30:40-07:00       False        154        13  \n",
      "\n",
      "[377 rows x 6 columns]\n"
     ]
    }
   ],
   "source": [
    "# Read in data\n",
    "data = pd.read_csv('tweets.csv')\n",
    "data['created'] = pd.to_datetime(data['created']).dt.tz_localize('UTC').dt.tz_convert('US/Pacific')\n",
    "print(data)"
   ]
  },
  {
   "cell_type": "code",
   "execution_count": 51,
   "metadata": {},
   "outputs": [
    {
     "name": "stdout",
     "output_type": "stream",
     "text": [
      "21\n"
     ]
    }
   ],
   "source": [
    "# Generate hourly bins\n",
    "time = pd.to_datetime('2021-04-04 16:00:00-07:00')\n",
    "bins = []\n",
    "while time <= pd.to_datetime('2021-04-05 12:00:00-07:00'):\n",
    "    bins.append(time)\n",
    "    time = time + np.timedelta64(1, 'h')\n",
    "print(len(bins))"
   ]
  },
  {
   "cell_type": "code",
   "execution_count": 52,
   "metadata": {},
   "outputs": [
    {
     "data": {
      "image/png": "[encoded data removed]",
      "text/plain": [
       "<Figure size 432x288 with 1 Axes>"
      ]
     },
     "metadata": {
      "needs_background": "light"
     },
     "output_type": "display_data"
    }
   ],
   "source": [
    "# Plot histogram of Tweets\n",
    "fig, ax = plt.subplots()\n",
    "counts,bins, patches = plt.hist(x=data['created'], bins=bins)\n",
    "plt.title('Tweets over time')\n",
    "plt.xlabel('Time (PST)')\n",
    "plt.ylabel('Tweet count')\n",
    "ax.set_xticks([bins[0], bins[5], bins[10], bins[15], bins[20]])\n",
    "ax.xaxis.set_major_formatter(mdates.DateFormatter('%-m/%-d %H:%M', tz=pytz.timezone('US/Pacific')))\n",
    "plt.savefig('tweets_over_time.png')"
   ]
  },
  {
   "cell_type": "code",
   "execution_count": 54,
   "metadata": {},
   "outputs": [
    {
     "data": {
      "text/html": [
       "<div>\n",
       "<style scoped>\n",
       "    .dataframe tbody tr th:only-of-type {\n",
       "        vertical-align: middle;\n",
       "    }\n",
       "\n",
       "    .dataframe tbody tr th {\n",
       "        vertical-align: top;\n",
       "    }\n",
       "\n",
       "    .dataframe thead th {\n",
       "        text-align: right;\n",
       "    }\n",
       "</style>\n",
       "<table border=\"1\" class=\"dataframe\">\n",
       "  <thead>\n",
       "    <tr style=\"text-align: right;\">\n",
       "      <th></th>\n",
       "      <th>text</th>\n",
       "      <th>id</th>\n",
       "      <th>created</th>\n",
       "      <th>is_retweet</th>\n",
       "      <th>favorites</th>\n",
       "      <th>retweets</th>\n",
       "    </tr>\n",
       "  </thead>\n",
       "  <tbody>\n",
       "    <tr>\n",
       "      <th>352</th>\n",
       "      <td>b'\"Let\\'s normalize working mothers and all th...</td>\n",
       "      <td>1378857455283802115</td>\n",
       "      <td>2021-04-04 16:50:09-07:00</td>\n",
       "      <td>False</td>\n",
       "      <td>1268</td>\n",
       "      <td>326</td>\n",
       "    </tr>\n",
       "    <tr>\n",
       "      <th>128</th>\n",
       "      <td>b'Last night, Holly Rowe highlighted that Ariz...</td>\n",
       "      <td>1379071211674730500</td>\n",
       "      <td>2021-04-05 06:59:33-07:00</td>\n",
       "      <td>False</td>\n",
       "      <td>221</td>\n",
       "      <td>28</td>\n",
       "    </tr>\n",
       "    <tr>\n",
       "      <th>375</th>\n",
       "      <td>b'\\xe2\\x80\\x9cLet\\xe2\\x80\\x99s normalize worki...</td>\n",
       "      <td>1378852974911438851</td>\n",
       "      <td>2021-04-04 16:32:21-07:00</td>\n",
       "      <td>False</td>\n",
       "      <td>176</td>\n",
       "      <td>35</td>\n",
       "    </tr>\n",
       "    <tr>\n",
       "      <th>376</th>\n",
       "      <td>b'Wow, Arizona Coach Adia Barnes is still a nu...</td>\n",
       "      <td>1378852548468109314</td>\n",
       "      <td>2021-04-04 16:30:40-07:00</td>\n",
       "      <td>False</td>\n",
       "      <td>154</td>\n",
       "      <td>13</td>\n",
       "    </tr>\n",
       "    <tr>\n",
       "      <th>209</th>\n",
       "      <td>b'It\\xe2\\x80\\x99s Stanford women for the win!\\...</td>\n",
       "      <td>1378888028446289920</td>\n",
       "      <td>2021-04-04 18:51:39-07:00</td>\n",
       "      <td>False</td>\n",
       "      <td>61</td>\n",
       "      <td>3</td>\n",
       "    </tr>\n",
       "  </tbody>\n",
       "</table>\n",
       "</div>"
      ],
      "text/plain": [
       "                                                  text                   id  \\\n",
       "352  b'\"Let\\'s normalize working mothers and all th...  1378857455283802115   \n",
       "128  b'Last night, Holly Rowe highlighted that Ariz...  1379071211674730500   \n",
       "375  b'\\xe2\\x80\\x9cLet\\xe2\\x80\\x99s normalize worki...  1378852974911438851   \n",
       "376  b'Wow, Arizona Coach Adia Barnes is still a nu...  1378852548468109314   \n",
       "209  b'It\\xe2\\x80\\x99s Stanford women for the win!\\...  1378888028446289920   \n",
       "\n",
       "                      created  is_retweet  favorites  retweets  \n",
       "352 2021-04-04 16:50:09-07:00       False       1268       326  \n",
       "128 2021-04-05 06:59:33-07:00       False        221        28  \n",
       "375 2021-04-04 16:32:21-07:00       False        176        35  \n",
       "376 2021-04-04 16:30:40-07:00       False        154        13  \n",
       "209 2021-04-04 18:51:39-07:00       False         61         3  "
      ]
     },
     "execution_count": 54,
     "metadata": {},
     "output_type": "execute_result"
    }
   ],
   "source": [
    "# Find the most liked tweets\n",
    "data[data['is_retweet']==False].sort_values('favorites', ascending=False).head(5)"
   ]
  },
  {
   "cell_type": "code",
   "execution_count": 55,
   "metadata": {},
   "outputs": [
    {
     "data": {
      "text/html": [
       "<div>\n",
       "<style scoped>\n",
       "    .dataframe tbody tr th:only-of-type {\n",
       "        vertical-align: middle;\n",
       "    }\n",
       "\n",
       "    .dataframe tbody tr th {\n",
       "        vertical-align: top;\n",
       "    }\n",
       "\n",
       "    .dataframe thead th {\n",
       "        text-align: right;\n",
       "    }\n",
       "</style>\n",
       "<table border=\"1\" class=\"dataframe\">\n",
       "  <thead>\n",
       "    <tr style=\"text-align: right;\">\n",
       "      <th></th>\n",
       "      <th>text</th>\n",
       "      <th>id</th>\n",
       "      <th>created</th>\n",
       "      <th>is_retweet</th>\n",
       "      <th>favorites</th>\n",
       "      <th>retweets</th>\n",
       "    </tr>\n",
       "  </thead>\n",
       "  <tbody>\n",
       "    <tr>\n",
       "      <th>352</th>\n",
       "      <td>b'\"Let\\'s normalize working mothers and all th...</td>\n",
       "      <td>1378857455283802115</td>\n",
       "      <td>2021-04-04 16:50:09-07:00</td>\n",
       "      <td>False</td>\n",
       "      <td>1268</td>\n",
       "      <td>326</td>\n",
       "    </tr>\n",
       "    <tr>\n",
       "      <th>375</th>\n",
       "      <td>b'\\xe2\\x80\\x9cLet\\xe2\\x80\\x99s normalize worki...</td>\n",
       "      <td>1378852974911438851</td>\n",
       "      <td>2021-04-04 16:32:21-07:00</td>\n",
       "      <td>False</td>\n",
       "      <td>176</td>\n",
       "      <td>35</td>\n",
       "    </tr>\n",
       "    <tr>\n",
       "      <th>128</th>\n",
       "      <td>b'Last night, Holly Rowe highlighted that Ariz...</td>\n",
       "      <td>1379071211674730500</td>\n",
       "      <td>2021-04-05 06:59:33-07:00</td>\n",
       "      <td>False</td>\n",
       "      <td>221</td>\n",
       "      <td>28</td>\n",
       "    </tr>\n",
       "    <tr>\n",
       "      <th>376</th>\n",
       "      <td>b'Wow, Arizona Coach Adia Barnes is still a nu...</td>\n",
       "      <td>1378852548468109314</td>\n",
       "      <td>2021-04-04 16:30:40-07:00</td>\n",
       "      <td>False</td>\n",
       "      <td>154</td>\n",
       "      <td>13</td>\n",
       "    </tr>\n",
       "    <tr>\n",
       "      <th>209</th>\n",
       "      <td>b'It\\xe2\\x80\\x99s Stanford women for the win!\\...</td>\n",
       "      <td>1378888028446289920</td>\n",
       "      <td>2021-04-04 18:51:39-07:00</td>\n",
       "      <td>False</td>\n",
       "      <td>61</td>\n",
       "      <td>3</td>\n",
       "    </tr>\n",
       "  </tbody>\n",
       "</table>\n",
       "</div>"
      ],
      "text/plain": [
       "                                                  text                   id  \\\n",
       "352  b'\"Let\\'s normalize working mothers and all th...  1378857455283802115   \n",
       "375  b'\\xe2\\x80\\x9cLet\\xe2\\x80\\x99s normalize worki...  1378852974911438851   \n",
       "128  b'Last night, Holly Rowe highlighted that Ariz...  1379071211674730500   \n",
       "376  b'Wow, Arizona Coach Adia Barnes is still a nu...  1378852548468109314   \n",
       "209  b'It\\xe2\\x80\\x99s Stanford women for the win!\\...  1378888028446289920   \n",
       "\n",
       "                      created  is_retweet  favorites  retweets  \n",
       "352 2021-04-04 16:50:09-07:00       False       1268       326  \n",
       "375 2021-04-04 16:32:21-07:00       False        176        35  \n",
       "128 2021-04-05 06:59:33-07:00       False        221        28  \n",
       "376 2021-04-04 16:30:40-07:00       False        154        13  \n",
       "209 2021-04-04 18:51:39-07:00       False         61         3  "
      ]
     },
     "execution_count": 55,
     "metadata": {},
     "output_type": "execute_result"
    }
   ],
   "source": [
    "# Find the most retweeted tweets\n",
    "data[data['is_retweet']==False].sort_values('retweets', ascending=False).head(5)"
   ]
  },
  {
   "cell_type": "code",
   "execution_count": 59,
   "metadata": {},
   "outputs": [
    {
     "name": "stdout",
     "output_type": "stream",
     "text": [
      "                     id  score  magnitude\n",
      "0   1379167574215307266    0.5        1.5\n",
      "1   1379133564432871424   -0.6        0.6\n",
      "2   1379117725633679366   -0.6        0.6\n",
      "3   1379116563807268864    0.1        0.1\n",
      "4   1379071211674730500   -0.4        0.4\n",
      "5   1379068102122561537    0.4        0.4\n",
      "6   1379064406047350784    0.2        0.5\n",
      "7   1378914666794074112    0.3        0.7\n",
      "8   1378914012109418497   -0.1        0.8\n",
      "9   1378888028446289920    0.1        0.1\n",
      "10  1378887258577661953    0.2        0.2\n",
      "11  1378858408154136576    0.0        0.5\n",
      "12  1378857702064001027   -0.1        0.1\n",
      "13  1378857455283802115   -0.2        0.4\n",
      "14  1378855977299157002    0.0        0.0\n",
      "15  1378854177896505344    0.3        1.1\n",
      "16  1378854022921207811   -0.5        0.5\n",
      "17  1378853618720272384    0.5        0.5\n",
      "18  1378852974911438851   -0.2        0.2\n",
      "19  1378852548468109314    0.1        1.3\n"
     ]
    }
   ],
   "source": [
    "# Read in sentiment data\n",
    "sentiment = pd.read_csv('sentiment.csv')\n",
    "print(sentiment)"
   ]
  },
  {
   "cell_type": "code",
   "execution_count": 60,
   "metadata": {},
   "outputs": [
    {
     "data": {
      "text/plain": [
       "(array([3., 1., 4., 5., 4., 3.]),\n",
       " array([-0.60000002, -0.41666669, -0.23333335, -0.05000001,  0.13333333,\n",
       "         0.31666666,  0.5       ]),\n",
       " <BarContainer object of 6 artists>)"
      ]
     },
     "execution_count": 60,
     "metadata": {},
     "output_type": "execute_result"
    },
    {
     "data": {
      "image/png": "[encoded data removed]",
      "text/plain": [
       "<Figure size 432x288 with 1 Axes>"
      ]
     },
     "metadata": {
      "needs_background": "light"
     },
     "output_type": "display_data"
    }
   ],
   "source": [
    "plt.hist(x=sentiment['score'], bins='auto')"
   ]
  },
  {
   "cell_type": "code",
   "execution_count": null,
   "metadata": {},
   "outputs": [],
   "source": []
  }
 ],
 "metadata": {
  "kernelspec": {
   "display_name": "Python 3",
   "language": "python",
   "name": "python3"
  },
  "language_info": {
   "codemirror_mode": {
    "name": "ipython",
    "version": 3
   },
   "file_extension": ".py",
   "mimetype": "text/x-python",
   "name": "python",
   "nbconvert_exporter": "python",
   "pygments_lexer": "ipython3",
   "version": "3.8.2"
  }
 },
 "nbformat": 4,
 "nbformat_minor": 4
}
